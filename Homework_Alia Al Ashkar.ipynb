{
  "nbformat": 4,
  "nbformat_minor": 0,
  "metadata": {
    "colab": {
      "provenance": [],
      "include_colab_link": true
    },
    "kernelspec": {
      "name": "python3",
      "display_name": "Python 3"
    },
    "language_info": {
      "name": "python"
    }
  },
  "cells": [
    {
      "cell_type": "markdown",
      "metadata": {
        "id": "view-in-github",
        "colab_type": "text"
      },
      "source": [
        "<a href=\"https://colab.research.google.com/github/aliashkar4/github_1st_lec/blob/main/Homework_Alia%20Al%20Ashkar.ipynb\" target=\"_parent\"><img src=\"https://colab.research.google.com/assets/colab-badge.svg\" alt=\"Open In Colab\"/></a>"
      ]
    },
    {
      "cell_type": "markdown",
      "source": [
        "0. task:\n",
        "**create a copy of this notebook** and save it as \"Name_NeptunCode.ipynb\"\n"
      ],
      "metadata": {
        "id": "CqgtM7zeeXqs"
      }
    },
    {
      "cell_type": "markdown",
      "source": [],
      "metadata": {
        "id": "ddZdQy2DHQfb"
      }
    },
    {
      "cell_type": "code",
      "source": [
        "from google.colab import drive\n",
        "drive.mount('/content/drive')"
      ],
      "metadata": {
        "colab": {
          "base_uri": "https://localhost:8080/"
        },
        "id": "GIAebX5xkjSc",
        "outputId": "af4b3f03-ed5d-4805-e9b4-043218f351e8"
      },
      "execution_count": null,
      "outputs": [
        {
          "output_type": "stream",
          "name": "stdout",
          "text": [
            "Mounted at /content/drive\n"
          ]
        }
      ]
    },
    {
      "cell_type": "code",
      "source": [],
      "metadata": {
        "id": "p-h6m7qKCnqD"
      },
      "execution_count": null,
      "outputs": []
    },
    {
      "cell_type": "markdown",
      "source": [
        "##1. task:"
      ],
      "metadata": {
        "id": "wZvH-wR-fTW9"
      }
    },
    {
      "cell_type": "markdown",
      "source": [
        "Create a House class that represents a house; attributes:\n",
        "\n",
        "\n",
        "*   area\n",
        "*   number of rooms\n",
        "*   number of bathrooms\n",
        "*   number of floors\n",
        "*   has garage\n",
        "*   has garden\n",
        "*   any other attributes that you think is important\n",
        "\n",
        "\n",
        "\n",
        "instance methods:\n",
        "\n",
        "*   price calculation (you can use numbers that we in the previous lesson, but feel free to be creative how to get the price of the house based on these attributes)\n",
        "\n",
        "There should be at least 1 default parameter\n"
      ],
      "metadata": {
        "id": "eVmZuB7cdkPK"
      }
    },
    {
      "cell_type": "code",
      "source": [
        "class House:\n",
        "\n",
        "    BASE_PRICE_PER_SQ_METER = 1000\n",
        "    ROOM_PRICE = 5000\n",
        "    BATHROOM_PRICE = 3000\n",
        "    FLOOR_PRICE = 2000\n",
        "    GARAGE_PRICE = 15000\n",
        "    GARDEN_PRICE = 20000\n",
        "\n",
        "    LOCATION_MULTIPLIERS = {\n",
        "        'city': 1.5,\n",
        "        'suburb': 1.0,\n",
        "        'rural': 0.8\n",
        "    }\n",
        "\n",
        "    def __init__(self, area, rooms, bathrooms, floors, garage=False, garden=False, location='suburb'):\n",
        "\n",
        "        self.area = area\n",
        "        self.rooms = rooms\n",
        "        self.bathrooms = bathrooms\n",
        "        self.floors = floors\n",
        "        self.garage = garage\n",
        "        self.garden = garden\n",
        "        self.location = location\n",
        "\n",
        "    def calculate_price(self):\n",
        "\n",
        "        base_price = self.BASE_PRICE_PER_SQ_METER * self.area\n",
        "        total_price = base_price + (\n",
        "            self.ROOM_PRICE * self.rooms +\n",
        "            self.BATHROOM_PRICE * self.bathrooms +\n",
        "            self.FLOOR_PRICE * self.floors +\n",
        "            (self.GARAGE_PRICE if self.garage else 0) +\n",
        "            (self.GARDEN_PRICE if self.garden else 0)\n",
        "        ) * self.LOCATION_MULTIPLIERS.get(self.location, 1.0)\n",
        "\n",
        "        return total_price\n",
        "\n",
        "    def str(self):\n",
        "\n",
        "        amenities = []\n",
        "        if self.garage:\n",
        "            amenities.append(\"garage\")\n",
        "        if self.garden:\n",
        "            amenities.append(\"garden\")\n",
        "\n",
        "        amenities_str = \", \".join(amenities) if amenities else \"no amenities\"\n",
        "        return f\"House in {self.location} with {self.area} sq m, {self.rooms} rooms, {self.bathrooms} bathrooms, {self.floors} floors, and {amenities_str}.\"\n",
        "\n",
        "\n"
      ],
      "metadata": {
        "id": "rfAUDGIsKGPA"
      },
      "execution_count": null,
      "outputs": []
    },
    {
      "cell_type": "code",
      "source": [
        "# Example usage\n",
        "house1 = House(120, 4, 2, 2, garage=True, garden=True, location='city')\n",
        "print(house1)\n",
        "print(f\"Estimated price: ${house1.calculate_price():,.2f}\")\n",
        "\n",
        "house2 = House(85, 3, 1, 1)\n",
        "print(house2)\n",
        "print(f\"Estimated price: ${house2.calculate_price():,.2f}\")"
      ],
      "metadata": {
        "colab": {
          "base_uri": "https://localhost:8080/"
        },
        "id": "MYZsUmKZDd-s",
        "outputId": "196fbae8-2e56-4919-e17e-34d9b82a3b29"
      },
      "execution_count": null,
      "outputs": [
        {
          "output_type": "stream",
          "name": "stdout",
          "text": [
            "<__main__.House object at 0x7d5c69a42d70>\n",
            "Estimated price: $217,500.00\n",
            "<__main__.House object at 0x7d5c699e6e60>\n",
            "Estimated price: $105,000.00\n"
          ]
        }
      ]
    },
    {
      "cell_type": "markdown",
      "source": [
        "Create a Person class with the following attributes:\n",
        "\n",
        "\n",
        "*   name\n",
        "*   age\n",
        "*   married (T/F)\n",
        "*   number of children\n",
        "*   number of cars\n",
        "*   total amount of money (to buy a house)\n",
        "*   based on the number of children store the number of family members in an attribute  (- this does not have to be included in the init arguments as it is a calculated value)\n",
        "\n",
        "\n",
        "\n",
        "\n",
        "\n"
      ],
      "metadata": {
        "id": "UfPfkzQbdop6"
      }
    },
    {
      "cell_type": "code",
      "source": [],
      "metadata": {
        "id": "px5ixHJWKJ3j"
      },
      "execution_count": null,
      "outputs": []
    },
    {
      "cell_type": "markdown",
      "source": [
        "Create 3 House instances and 3 Person instances and with different arguments!"
      ],
      "metadata": {
        "id": "Z6rbLkgB3E9N"
      }
    },
    {
      "cell_type": "code",
      "source": [],
      "metadata": {
        "id": "9P2oiqYPKSie"
      },
      "execution_count": null,
      "outputs": []
    },
    {
      "cell_type": "markdown",
      "source": [
        "Create functions (decide whether it should be an instance method of one of the classes, or should be just defined in the program) to answer\n",
        "\n",
        "\n",
        "*   whether the person can buy the house,\n",
        "*   whether the person's family can live in that house (enough room),\n",
        "*   whether the house has enough space (garages) for the cars in the family\n",
        "\n",
        "\n"
      ],
      "metadata": {
        "id": "w15CqLRRdr0M"
      }
    },
    {
      "cell_type": "markdown",
      "source": [
        "Test the functions with the different House and Person instances!"
      ],
      "metadata": {
        "id": "078CulRI3zeM"
      }
    },
    {
      "cell_type": "code",
      "source": [],
      "metadata": {
        "colab": {
          "base_uri": "https://localhost:8080/"
        },
        "id": "0LtcSg8VKqa5",
        "outputId": "b742ac6d-a89d-474c-c742-99b5d510925d"
      },
      "execution_count": null,
      "outputs": [
        {
          "output_type": "stream",
          "name": "stdout",
          "text": [
            "Can Alice buy house1? True\n",
            "Can Bob's family live in house2? True\n",
            "Does Charlie have enough garage space in house3? False\n"
          ]
        }
      ]
    },
    {
      "cell_type": "markdown",
      "source": [
        "##2. task"
      ],
      "metadata": {
        "id": "HHFqhytgfX_b"
      }
    },
    {
      "cell_type": "markdown",
      "source": [
        "Create an Animal class and choose 3 animals that have some things in common (characteristics and behaviour)!\n",
        "\n",
        "Write the Parent class and the derived classes of the species!\n",
        "\n",
        "The Child classes should inherit some attributes and override some methods of the Parent class, but should also extend the state with own attributes in each subclass and extend the behaviour with own methods."
      ],
      "metadata": {
        "id": "gp_LabipdssB"
      }
    },
    {
      "cell_type": "code",
      "source": [],
      "metadata": {
        "id": "sAdoQ5p8fQmv"
      },
      "execution_count": null,
      "outputs": []
    },
    {
      "cell_type": "code",
      "source": [],
      "metadata": {
        "id": "FNb8AJTlLXuV"
      },
      "execution_count": null,
      "outputs": []
    },
    {
      "cell_type": "code",
      "source": [],
      "metadata": {
        "id": "xuqWOV8GLelN"
      },
      "execution_count": null,
      "outputs": []
    }
  ]
}